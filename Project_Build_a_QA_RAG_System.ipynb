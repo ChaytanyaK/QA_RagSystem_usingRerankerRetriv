{
 "cells": [
  {
   "cell_type": "markdown",
   "metadata": {
    "id": "TkZ-tYIsqsAP"
   },
   "source": [
    "# Project: Build a QA RAG System on Wikipedia Data"
   ]
  },
  {
   "cell_type": "markdown",
   "metadata": {
    "id": "L1KvMtf54l0d"
   },
   "source": [
    "## Install OpenAI, and LangChain dependencies"
   ]
  },
  {
   "cell_type": "code",
   "execution_count": null,
   "metadata": {},
   "outputs": [],
   "source": [
    "!pip install langchain==0.3.11\n",
    "!pip install langchain-openai==0.2.12\n",
    "!pip install langchain-community==0.3.11\n",
    "!pip install langchain-chroma==0.1.4\n",
    "!pip install sentence-transformers==2.7.0"
   ]
  },
  {
   "cell_type": "markdown",
   "metadata": {
    "id": "H9c37cLnSrbg"
   },
   "source": [
    "## Enter Open AI API Key"
   ]
  },
  {
   "cell_type": "code",
   "execution_count": null,
   "metadata": {
    "id": "cv3JzCEx_PAd"
   },
   "outputs": [],
   "source": [
    "from getpass import getpass\n",
    "\n",
    "OPENAI_KEY = getpass('Enter Open AI API Key: ')"
   ]
  },
  {
   "cell_type": "markdown",
   "metadata": {
    "id": "1T0s0um5Svfa"
   },
   "source": [
    "## Setup Environment Variables"
   ]
  },
  {
   "cell_type": "code",
   "execution_count": null,
   "metadata": {
    "id": "x1YSuHNF_lbh"
   },
   "outputs": [],
   "source": [
    "import os\n",
    "\n",
    "os.environ['OPENAI_API_KEY'] = OPENAI_KEY"
   ]
  },
  {
   "cell_type": "markdown",
   "metadata": {
    "id": "M8nHAP7XOGOj"
   },
   "source": [
    "### Open AI Embedding Models\n",
    "\n",
    "LangChain enables us to access Open AI embedding models which include the newest models: a smaller and highly efficient `text-embedding-3-small` model, and a larger and more powerful `text-embedding-3-large` model."
   ]
  },
  {
   "cell_type": "code",
   "execution_count": 4,
   "metadata": {
    "id": "jzrIVI2NAHC1"
   },
   "outputs": [],
   "source": [
    "from langchain_openai import OpenAIEmbeddings\n",
    "\n",
    "# details here: https://openai.com/blog/new-embedding-models-and-api-updates\n",
    "openai_embed_model = OpenAIEmbeddings(model='text-embedding-3-small')"
   ]
  },
  {
   "cell_type": "markdown",
   "metadata": {
    "id": "IO3_BzTbTBcJ"
   },
   "source": [
    "## Vector Databases\n",
    "\n",
    "One of the most common ways to store and search over unstructured data is to embed it and store the resulting embedding vectors, and then at query time to embed the unstructured query and retrieve the embedding vectors that are 'most similar' to the embedded query. A vector database takes care of storing embedded data and performing vector search for you.\n",
    "\n",
    "### Chroma Vector DB\n",
    "\n",
    "[Chroma](https://docs.trychroma.com/getting-started) is a AI-native open-source vector database focused on developer productivity and happiness. Chroma is licensed under Apache 2.0."
   ]
  },
  {
   "cell_type": "markdown",
   "metadata": {
    "id": "RA_-hzHbFeSP"
   },
   "source": [
    "### Get the wikipedia data"
   ]
  },
  {
   "cell_type": "code",
   "execution_count": 5,
   "metadata": {
    "id": "RZFMYH-yFhWn"
   },
   "outputs": [
    {
     "name": "stdout",
     "output_type": "stream",
     "text": [
      "/bin/bash: line 1: gdown: command not found\n"
     ]
    }
   ],
   "source": [
    "# if you can't download using the following code\n",
    "# go to https://drive.google.com/file/d/1oWBnoxBZ1Mpeond8XDUSO6J9oAjcRDyW download it\n",
    "# manually upload it on colab\n",
    "!gdown 1oWBnoxBZ1Mpeond8XDUSO6J9oAjcRDyW"
   ]
  },
  {
   "cell_type": "code",
   "execution_count": 6,
   "metadata": {
    "id": "WwLEBC4nF9ly"
   },
   "outputs": [
    {
     "name": "stdout",
     "output_type": "stream",
     "text": [
      "Passages: 169597\n"
     ]
    }
   ],
   "source": [
    "import gzip\n",
    "import json\n",
    "\n",
    "wikipedia_filepath = 'simplewiki-2020-11-01.jsonl.gz'\n",
    "\n",
    "docs = []\n",
    "with gzip.open(wikipedia_filepath, 'rt', encoding='utf8') as fIn:\n",
    "    for line in fIn:\n",
    "        data = json.loads(line.strip())\n",
    "\n",
    "        #Add all paragraphs\n",
    "        #passages.extend(data['paragraphs'])\n",
    "\n",
    "        #Only add the first paragraph\n",
    "        docs.append({\n",
    "                        'metadata': {\n",
    "                                        'title': data.get('title'),\n",
    "                                        'article_id': data.get('id')\n",
    "                        },\n",
    "                        'data': ' '.join(data.get('paragraphs')[0:3]) # restrict data to first 3 paragraphs to run later modules faster\n",
    "        })\n",
    "\n",
    "print(\"Passages:\", len(docs))"
   ]
  },
  {
   "cell_type": "code",
   "execution_count": 7,
   "metadata": {
    "id": "oABVR8m-6ZiY"
   },
   "outputs": [],
   "source": [
    "# We subset our data so we only use a subset of wikipedia documents to run things faster\n",
    "docs = [doc for doc in docs for x in ['linguistics', 'india', 'cheetah']\n",
    "              if x in doc['data'].lower().split()]"
   ]
  },
  {
   "cell_type": "code",
   "execution_count": 8,
   "metadata": {
    "id": "G4E1zYFSG7J-"
   },
   "outputs": [
    {
     "data": {
      "text/plain": [
       "1364"
      ]
     },
     "execution_count": 8,
     "metadata": {},
     "output_type": "execute_result"
    }
   ],
   "source": [
    "len(docs)"
   ]
  },
  {
   "cell_type": "code",
   "execution_count": 9,
   "metadata": {
    "id": "aSbhERAyGw0v"
   },
   "outputs": [
    {
     "data": {
      "text/plain": [
       "[{'metadata': {'title': 'Kurgan hypothesis', 'article_id': '72554'},\n",
       "  'data': 'The Kurgan model of Indo-European origins is about both the people and their Proto-Indo-European language. It uses both archaeology and linguistics to show the history of their culture at different stages of the Indo-European expansion. The Kurgan model is the most widely accepted theory on the origins of Indo-European.'},\n",
       " {'metadata': {'title': 'Marija Gimbutas', 'article_id': '72558'},\n",
       "  'data': 'Marija Gimbutas (Lithuanian: Marija Gimbutienė, born Marija Birutė Alseikaitė) (Vilnius, Lithuania, January 23, 1921 – Los Angeles, United States February 2, 1994), was a Lithuanian-American archeologist, known for her research into the Neolithic and Bronze Age cultures of \"Old Europe\" and the theories that she introduced. Between 1946 and 1971, her writings merged traditional spadework with linguistics and mythologies.'},\n",
       " {'metadata': {'title': 'Basil', 'article_id': '73985'},\n",
       "  'data': 'Basil (\"Ocimum basilicum\") ( or ) is a plant of the Family Lamiaceae. It is also known as Sweet Basil or Tulsi. It is a tender low-growing herb that is grown as a perennial in warm, tropical climates. Basil is originally native to India and other tropical regions of Asia. It has been cultivated there for more than 5,000 years. It is prominently featured in many cuisines throughout the world. Some of them are Italian, Thai, Vietnamese and Laotian cuisines. It grows to between 30–60\\xa0cm tall. It has light green, silky leaves 3–5\\xa0cm long and 1–3\\xa0cm broad. The leaves are opposite each other. The flowers are quite big. They are white in color and arranged as a spike. The plant tastes somewhat like anise, with a strong, pungent, sweet smell. Basil is very sensitive to cold. It is best grown in hot, dry conditions. While most common varieties are treated as annuals, some are perennial, including African Blue and Holy Thai basil. The word \"basil\" comes from the Greek βασιλεύς (\"basileus\"), meaning \"royal\". This is because it is believed to have grown above the spot where St. Constantine and Helen discovered the Holy Cross. The \"Oxford English Dictionary\" quotes speculations that basil may have been used in \"some royal unguent, bath, or medicine\". Basil is still considered the \"king of herbs\" by many cookery authors. An alternative etymology has \"basil\" coming from the Latin word \"basilicus\", meaning dragon and being the root for basilisk, but this likely was a linguistic reworking of the word as brought from Greece.'}]"
      ]
     },
     "execution_count": 9,
     "metadata": {},
     "output_type": "execute_result"
    }
   ],
   "source": [
    "docs[:3]"
   ]
  },
  {
   "cell_type": "markdown",
   "metadata": {
    "id": "yPjmN39-Nv1Y"
   },
   "source": [
    "### Create LangChain Documents"
   ]
  },
  {
   "cell_type": "code",
   "execution_count": 10,
   "metadata": {
    "id": "E9KThjCwN0Ez"
   },
   "outputs": [],
   "source": [
    "from langchain.docstore.document import Document\n",
    "\n",
    "docs = [Document(page_content=doc['data'],\n",
    "                 metadata=doc['metadata']) for doc in docs]"
   ]
  },
  {
   "cell_type": "code",
   "execution_count": 11,
   "metadata": {
    "id": "cFMT5Y0xN_PV"
   },
   "outputs": [
    {
     "data": {
      "text/plain": [
       "[Document(metadata={'title': 'Kurgan hypothesis', 'article_id': '72554'}, page_content='The Kurgan model of Indo-European origins is about both the people and their Proto-Indo-European language. It uses both archaeology and linguistics to show the history of their culture at different stages of the Indo-European expansion. The Kurgan model is the most widely accepted theory on the origins of Indo-European.'),\n",
       " Document(metadata={'title': 'Marija Gimbutas', 'article_id': '72558'}, page_content='Marija Gimbutas (Lithuanian: Marija Gimbutienė, born Marija Birutė Alseikaitė) (Vilnius, Lithuania, January 23, 1921 – Los Angeles, United States February 2, 1994), was a Lithuanian-American archeologist, known for her research into the Neolithic and Bronze Age cultures of \"Old Europe\" and the theories that she introduced. Between 1946 and 1971, her writings merged traditional spadework with linguistics and mythologies.'),\n",
       " Document(metadata={'title': 'Basil', 'article_id': '73985'}, page_content='Basil (\"Ocimum basilicum\") ( or ) is a plant of the Family Lamiaceae. It is also known as Sweet Basil or Tulsi. It is a tender low-growing herb that is grown as a perennial in warm, tropical climates. Basil is originally native to India and other tropical regions of Asia. It has been cultivated there for more than 5,000 years. It is prominently featured in many cuisines throughout the world. Some of them are Italian, Thai, Vietnamese and Laotian cuisines. It grows to between 30–60\\xa0cm tall. It has light green, silky leaves 3–5\\xa0cm long and 1–3\\xa0cm broad. The leaves are opposite each other. The flowers are quite big. They are white in color and arranged as a spike. The plant tastes somewhat like anise, with a strong, pungent, sweet smell. Basil is very sensitive to cold. It is best grown in hot, dry conditions. While most common varieties are treated as annuals, some are perennial, including African Blue and Holy Thai basil. The word \"basil\" comes from the Greek βασιλεύς (\"basileus\"), meaning \"royal\". This is because it is believed to have grown above the spot where St. Constantine and Helen discovered the Holy Cross. The \"Oxford English Dictionary\" quotes speculations that basil may have been used in \"some royal unguent, bath, or medicine\". Basil is still considered the \"king of herbs\" by many cookery authors. An alternative etymology has \"basil\" coming from the Latin word \"basilicus\", meaning dragon and being the root for basilisk, but this likely was a linguistic reworking of the word as brought from Greece.')]"
      ]
     },
     "execution_count": 11,
     "metadata": {},
     "output_type": "execute_result"
    }
   ],
   "source": [
    "docs[:3]"
   ]
  },
  {
   "cell_type": "code",
   "execution_count": 12,
   "metadata": {
    "id": "ccGsE7JYOilo"
   },
   "outputs": [
    {
     "data": {
      "text/plain": [
       "1364"
      ]
     },
     "execution_count": 12,
     "metadata": {},
     "output_type": "execute_result"
    }
   ],
   "source": [
    "len(docs)"
   ]
  },
  {
   "cell_type": "markdown",
   "metadata": {
    "id": "ZaSljqmlOFwm"
   },
   "source": [
    "### Split larger documents into smaller chunks"
   ]
  },
  {
   "cell_type": "code",
   "execution_count": 13,
   "metadata": {
    "id": "-f9rqPnROE82"
   },
   "outputs": [],
   "source": [
    "from langchain.text_splitter import RecursiveCharacterTextSplitter\n",
    "\n",
    "splitter = RecursiveCharacterTextSplitter(chunk_size=2000, chunk_overlap=300)\n",
    "chunked_docs = splitter.split_documents(docs)"
   ]
  },
  {
   "cell_type": "code",
   "execution_count": 14,
   "metadata": {
    "id": "cqqp0RdkOsrg"
   },
   "outputs": [
    {
     "data": {
      "text/plain": [
       "[Document(metadata={'title': 'Kurgan hypothesis', 'article_id': '72554'}, page_content='The Kurgan model of Indo-European origins is about both the people and their Proto-Indo-European language. It uses both archaeology and linguistics to show the history of their culture at different stages of the Indo-European expansion. The Kurgan model is the most widely accepted theory on the origins of Indo-European.'),\n",
       " Document(metadata={'title': 'Marija Gimbutas', 'article_id': '72558'}, page_content='Marija Gimbutas (Lithuanian: Marija Gimbutienė, born Marija Birutė Alseikaitė) (Vilnius, Lithuania, January 23, 1921 – Los Angeles, United States February 2, 1994), was a Lithuanian-American archeologist, known for her research into the Neolithic and Bronze Age cultures of \"Old Europe\" and the theories that she introduced. Between 1946 and 1971, her writings merged traditional spadework with linguistics and mythologies.'),\n",
       " Document(metadata={'title': 'Basil', 'article_id': '73985'}, page_content='Basil (\"Ocimum basilicum\") ( or ) is a plant of the Family Lamiaceae. It is also known as Sweet Basil or Tulsi. It is a tender low-growing herb that is grown as a perennial in warm, tropical climates. Basil is originally native to India and other tropical regions of Asia. It has been cultivated there for more than 5,000 years. It is prominently featured in many cuisines throughout the world. Some of them are Italian, Thai, Vietnamese and Laotian cuisines. It grows to between 30–60\\xa0cm tall. It has light green, silky leaves 3–5\\xa0cm long and 1–3\\xa0cm broad. The leaves are opposite each other. The flowers are quite big. They are white in color and arranged as a spike. The plant tastes somewhat like anise, with a strong, pungent, sweet smell. Basil is very sensitive to cold. It is best grown in hot, dry conditions. While most common varieties are treated as annuals, some are perennial, including African Blue and Holy Thai basil. The word \"basil\" comes from the Greek βασιλεύς (\"basileus\"), meaning \"royal\". This is because it is believed to have grown above the spot where St. Constantine and Helen discovered the Holy Cross. The \"Oxford English Dictionary\" quotes speculations that basil may have been used in \"some royal unguent, bath, or medicine\". Basil is still considered the \"king of herbs\" by many cookery authors. An alternative etymology has \"basil\" coming from the Latin word \"basilicus\", meaning dragon and being the root for basilisk, but this likely was a linguistic reworking of the word as brought from Greece.')]"
      ]
     },
     "execution_count": 14,
     "metadata": {},
     "output_type": "execute_result"
    }
   ],
   "source": [
    "chunked_docs[:3]"
   ]
  },
  {
   "cell_type": "code",
   "execution_count": 15,
   "metadata": {
    "id": "q-1rG2xnOqcn"
   },
   "outputs": [
    {
     "data": {
      "text/plain": [
       "1388"
      ]
     },
     "execution_count": 15,
     "metadata": {},
     "output_type": "execute_result"
    }
   ],
   "source": [
    "len(chunked_docs)"
   ]
  },
  {
   "cell_type": "markdown",
   "metadata": {
    "id": "-PnV9lAXZw9a"
   },
   "source": [
    "### Create a Vector DB and persist on disk\n",
    "\n",
    "Here we initialize a connection to a Chroma vector DB client, and also we want to save to disk, so we simply initialize the Chroma client and pass the directory where we want the data to be saved to."
   ]
  },
  {
   "cell_type": "code",
   "execution_count": 16,
   "metadata": {
    "id": "kRYfcrsHUxyZ"
   },
   "outputs": [],
   "source": [
    "from langchain_chroma import Chroma\n",
    "\n",
    "# create vector DB of docs and embeddings - takes < 30s on Colab\n",
    "chroma_db = Chroma.from_documents(documents=chunked_docs,\n",
    "                                  collection_name='rag_wikipedia_db',\n",
    "                                  embedding=openai_embed_model,\n",
    "                                  # need to set the distance function to cosine else it uses euclidean by default\n",
    "                                  # check https://docs.trychroma.com/guides#changing-the-distance-function\n",
    "                                  collection_metadata={\"hnsw:space\": \"cosine\"},\n",
    "                                  persist_directory=\"./wikipedia_db\")"
   ]
  },
  {
   "cell_type": "markdown",
   "metadata": {
    "id": "9ju_zBIj1Zsb"
   },
   "source": [
    "### Load Vector DB from disk\n",
    "\n",
    "This is just to show once you have a vector database on disk you can just load and create a connection to it anytime"
   ]
  },
  {
   "cell_type": "code",
   "execution_count": 17,
   "metadata": {
    "id": "pNvj0dDH1WDg"
   },
   "outputs": [],
   "source": [
    "# load from disk\n",
    "chroma_db = Chroma(persist_directory=\"./wikipedia_db\",\n",
    "                   collection_name='rag_wikipedia_db',\n",
    "                   embedding_function=openai_embed_model)"
   ]
  },
  {
   "cell_type": "code",
   "execution_count": 18,
   "metadata": {
    "id": "NFC3uPqYop0a"
   },
   "outputs": [
    {
     "data": {
      "text/plain": [
       "<langchain_chroma.vectorstores.Chroma at 0x73f90f3d9ad0>"
      ]
     },
     "execution_count": 18,
     "metadata": {},
     "output_type": "execute_result"
    }
   ],
   "source": [
    "chroma_db"
   ]
  },
  {
   "cell_type": "markdown",
   "metadata": {
    "id": "2oeckxFBcc0E"
   },
   "source": [
    "## Load Connection to LLM\n",
    "\n",
    "Here we create a connection to ChatGPT to use later in our chains"
   ]
  },
  {
   "cell_type": "code",
   "execution_count": 19,
   "metadata": {
    "id": "vHa9LMOfcOCV"
   },
   "outputs": [],
   "source": [
    "from langchain_openai import ChatOpenAI\n",
    "\n",
    "chatgpt = ChatOpenAI(model_name='gpt-4o-mini', temperature=0)"
   ]
  },
  {
   "cell_type": "markdown",
   "metadata": {
    "id": "9YK8BBMBAU9o"
   },
   "source": [
    "## Chained Retrieval Pipeline\n",
    "\n",
    "This strategy uses a chain of multiple retrievers sequentially to get to the most relevant documents. The following is the flow\n",
    "\n",
    "Similarity Retrieval → Compression Filter → Reranker Model Retrieval\n",
    "\n",
    "![](https://i.imgur.com/KriNRDJ.gif)\n"
   ]
  },
  {
   "cell_type": "markdown",
   "metadata": {},
   "source": [
    "###\n",
    "Multi-Stage Document Retrieval Pipeline\n",
    "\n",
    "This script implements a robust document retrieval strategy using a combination of:\n",
    "1. Fast vector similarity-based retrieval\n",
    "2. LLM-based filtering\n",
    "3. Cross-encoder-based reranking\n",
    "\n",
    "The pipeline improves retrieval quality through:\n",
    "- Initial recall of semantically relevant documents using cosine similarity.\n",
    "- Intelligent filtering using an LLM to reason about contextual fit.\n",
    "- Precise reranking with a cross-encoder that scores full query-document pairs.\n",
    "\n",
    "Benefits:\n",
    "- Balances speed and accuracy.\n",
    "- Modular and interpretable.\n",
    "- Especially effective for RAG systems, chatbots, and QA tasks where high-quality document retrieval is critical.\n"
   ]
  },
  {
   "cell_type": "code",
   "execution_count": 20,
   "metadata": {
    "id": "UgZ4eMFc2GgI"
   },
   "outputs": [
    {
     "name": "stderr",
     "output_type": "stream",
     "text": [
      "/home/santhosh/anaconda3/lib/python3.11/site-packages/sentence_transformers/cross_encoder/CrossEncoder.py:13: TqdmExperimentalWarning: Using `tqdm.autonotebook.tqdm` in notebook mode. Use `tqdm.tqdm` instead to force console mode (e.g. in jupyter console)\n",
      "  from tqdm.autonotebook import tqdm, trange\n",
      "The installed version of bitsandbytes was compiled without GPU support. 8-bit optimizers, 8-bit multiplication, and GPU quantization are unavailable.\n"
     ]
    },
    {
     "data": {
      "application/vnd.jupyter.widget-view+json": {
       "model_id": "fcda3e5ec17149a2a6e140f710c89cf3",
       "version_major": 2,
       "version_minor": 0
      },
      "text/plain": [
       "model.safetensors:   6%|5         | 126M/2.24G [00:00<?, ?B/s]"
      ]
     },
     "metadata": {},
     "output_type": "display_data"
    },
    {
     "data": {
      "application/vnd.jupyter.widget-view+json": {
       "model_id": "624bdec9d189449c882b8a754d83d03b",
       "version_major": 2,
       "version_minor": 0
      },
      "text/plain": [
       "tokenizer_config.json:   0%|          | 0.00/443 [00:00<?, ?B/s]"
      ]
     },
     "metadata": {},
     "output_type": "display_data"
    },
    {
     "data": {
      "application/vnd.jupyter.widget-view+json": {
       "model_id": "c68d4954386b4028b0d99a3fc5f3ff88",
       "version_major": 2,
       "version_minor": 0
      },
      "text/plain": [
       "sentencepiece.bpe.model:   0%|          | 0.00/5.07M [00:00<?, ?B/s]"
      ]
     },
     "metadata": {},
     "output_type": "display_data"
    },
    {
     "data": {
      "application/vnd.jupyter.widget-view+json": {
       "model_id": "f8063a23dabe448c904c16798528a15e",
       "version_major": 2,
       "version_minor": 0
      },
      "text/plain": [
       "tokenizer.json:   0%|          | 0.00/17.1M [00:00<?, ?B/s]"
      ]
     },
     "metadata": {},
     "output_type": "display_data"
    },
    {
     "data": {
      "application/vnd.jupyter.widget-view+json": {
       "model_id": "7584bd1e202a4bf4b5061bef5db9071a",
       "version_major": 2,
       "version_minor": 0
      },
      "text/plain": [
       "special_tokens_map.json:   0%|          | 0.00/279 [00:00<?, ?B/s]"
      ]
     },
     "metadata": {},
     "output_type": "display_data"
    }
   ],
   "source": [
    "\n",
    "\n",
    "\n",
    "from langchain_community.cross_encoders import HuggingFaceCrossEncoder\n",
    "from langchain.retrievers.document_compressors import CrossEncoderReranker, LLMChainFilter\n",
    "from langchain.retrievers import ContextualCompressionRetriever\n",
    "\n",
    "# Step 1: Simple similarity-based retrieval (fast and cheap)\n",
    "# Retrieves top-k (k=5) documents most similar to the query using cosine similarity on embeddings\n",
    "similarity_retriever = chroma_db.as_retriever(\n",
    "    search_type=\"similarity\",\n",
    "    search_kwargs={\"k\": 5}\n",
    ")\n",
    "\n",
    "# Step 2: LLM-based filtering\n",
    "# Creates a filter using an LLM (e.g., ChatGPT) to evaluate which of the retrieved documents\n",
    "# are contextually relevant to the query. Helps reduce noise from vector search.\n",
    "_filter = LLMChainFilter.from_llm(llm=chatgpt)\n",
    "\n",
    "# Step 3: Apply the LLM filter on top of the initial retriever\n",
    "# This wraps the previous retriever and filters its output using the LLM logic.\n",
    "compressor_retriever = ContextualCompressionRetriever(\n",
    "    base_compressor=_filter,\n",
    "    base_retriever=similarity_retriever\n",
    ")\n",
    "\n",
    "# Step 4: Load cross-encoder reranker (more accurate but slower)\n",
    "# Downloads a pre-trained cross-encoder model that jointly encodes query and document\n",
    "# for precise scoring. Very useful to fine-tune top results further.\n",
    "reranker = HuggingFaceCrossEncoder(model_name=\"BAAI/bge-reranker-large\")\n",
    "\n",
    "# Step 5: Wrap the reranker to keep top_n documents after reranking\n",
    "reranker_compressor = CrossEncoderReranker(model=reranker, top_n=3)\n",
    "\n",
    "# Step 6: Final retriever combines all the above stages\n",
    "# This retriever performs:\n",
    "# 1. Fast similarity search\n",
    "# 2. LLM filtering\n",
    "# 3. Cross-encoder reranking\n",
    "# Result: You get the top 3 highest-quality, most relevant documents for your query\n",
    "final_retriever = ContextualCompressionRetriever(\n",
    "    base_compressor=reranker_compressor,\n",
    "    base_retriever=compressor_retriever\n",
    ")\n"
   ]
  },
  {
   "cell_type": "code",
   "execution_count": 21,
   "metadata": {
    "id": "dFtoRwndBZuc"
   },
   "outputs": [
    {
     "data": {
      "text/plain": [
       "[Document(metadata={'article_id': '4062', 'title': 'Kolkata'}, page_content=\"Kolkata (spelled Calcutta before 1 January 2001) is the capital city of the Indian state of West Bengal. It is the second largest city in India after Mumbai. It is on the east bank of the River Hooghly. When it is called Calcutta, it includes the suburbs. This makes it the third largest city of India. This also makes it the world's 8th largest metropolitan area as defined by the United Nations. Kolkata served as the capital of India during the British Raj until 1911. Kolkata was once the center of industry and education. However, it has witnessed political violence and economic problems since 1954. Since 2000, Kolkata has grown due to economic growth. Like other metropolitan cities in India, Kolkata struggles with poverty, pollution and traffic congestion. The discovery of the nearby Chandraketugarh, an archaeological site has proved that people have lived there for over two millennia. The history of Kolkata begins when the English East India Company arrived in 1690. Job Charnock, an administrator with the Company is traditionally known as the founder of this city. However some academics say that Charnock is not the city's founder. At that time Kolkata, ruled by the Nawab of Bengal Siraj-Ud-Daulah, had three villages. They were Kalikata, Govindapur and Sutanuti. The British in the late 17th century wanted to build a fort near Govindapur. This was to become more powerful than Dutch, the Portuguese, and the French. In 1702, the British completed the construction of old Fort William, which was used to station its troops and as a regional base. Calcutta was declared a Presidency City, and later became the headquarters of the Bengal Presidency. When regular fights with French forces started, in 1756 the British began to upgrade their fortifications. When this was protested, the Nawab of Bengal Siraj-Ud-Daulah attacked and captured Fort William. This led to the infamous Black Hole incident. A force of Company sepoys and British troops led by Robert Clive recaptured the\"),\n",
       " Document(metadata={'article_id': '4062', 'title': 'Kolkata'}, page_content='forces started, in 1756 the British began to upgrade their fortifications. When this was protested, the Nawab of Bengal Siraj-Ud-Daulah attacked and captured Fort William. This led to the infamous Black Hole incident. A force of Company sepoys and British troops led by Robert Clive recaptured the city the next year. Calcutta became the capital of British India in 1772. However, the capital shifted to the hilly town of Shimla during the summer months every year, starting from the year 1864. Richard Wellesley, the Governor General between 1797–1805, helped in the growth of the city and its public architecture. This led to the description of Calcutta as \"The City of Palaces\". The city was a centre of the British East India Company\\'s opium trade during the 18th and 19th century; locally produced opium was sold at auction in Kolkata, to be shipped to China.')]"
      ]
     },
     "execution_count": 21,
     "metadata": {},
     "output_type": "execute_result"
    }
   ],
   "source": [
    "query = \"what is the old capital of India?\"\n",
    "docs = final_retriever.invoke(query)\n",
    "docs"
   ]
  },
  {
   "cell_type": "code",
   "execution_count": 22,
   "metadata": {
    "id": "9nKGhybhZVQF"
   },
   "outputs": [
    {
     "data": {
      "text/plain": [
       "[Document(metadata={'article_id': '9800', 'title': 'Cheetah'}, page_content='A cheetah (\"Acinonyx jubatus\") is a medium large cat which lives in Africa. It is the fastest land animal and can run up to 112 kilometers per hour for a short time. Most cheetahs live in the savannas of Africa. There are a few in Asia. Cheetahs are active during the day, and hunt in the early morning or late evening. The cheetah compared to other big cats is light and slimly built. Its long thin legs and long spotted tail are necessary for fast running. Its lightly built, thin form is in sharp contrast with the robust build of other big cats. The head-and-body length ranges from . The cheetah stands 70 to 90\\xa0cm at the shoulder, and weighs . The slightly curved claws are only weakly retractable (semi-retractable). This is a major point of difference between the cheetah and the other big cats, which have fully retractable claws.'),\n",
       " Document(metadata={'article_id': '528308', 'title': 'South African cheetah'}, page_content='The South African Cheetah (\"Acinonyx jubatus jubatus\"), also known as Namibian Cheetah, is the nominate subspecies of cheetah native to Southern Africa. It is the most abundant subspecies estimated at more than 6,000 individuals in the wild. Since 1990 and onwards, the population was estimated at approximately 2,500 individuals in Namibia, until 2015, the cheetah population has been increased to more than 3,500 in the country. The South African Cheetah is the closest relative to the two other distinct subspecies, the Asiatic Cheetahs and the Northeast African Cheetah.')]"
      ]
     },
     "execution_count": 22,
     "metadata": {},
     "output_type": "execute_result"
    }
   ],
   "source": [
    "query = \"what is the fastest animal?\"\n",
    "docs = final_retriever.invoke(query)\n",
    "docs"
   ]
  },
  {
   "cell_type": "markdown",
   "metadata": {
    "id": "Bfn4Z4Em55bb"
   },
   "source": [
    "## Build a QA RAG Chain\n",
    "\n",
    "To build a RAG chain we need a prompt template which instructs the LLM to not answer questions beyond the scope of the retrieved context documents, there are various such prompts out there, we craft one ourselves below"
   ]
  },
  {
   "cell_type": "code",
   "execution_count": 23,
   "metadata": {
    "id": "8Pu5U9HNkl-q"
   },
   "outputs": [],
   "source": [
    "from langchain_core.prompts import ChatPromptTemplate\n",
    "\n",
    "prompt = \"\"\"You are an assistant for question-answering tasks.\n",
    "            Use the following pieces of retrieved context to answer the question.\n",
    "            If no context is present or if you don't know the answer, just say that you don't know.\n",
    "            Do not make up the answer unless it is there in the provided context.\n",
    "            Give a detailed answer with regard to the question.\n",
    "\n",
    "            Question:\n",
    "            {question}\n",
    "\n",
    "            Context:\n",
    "            {context}\n",
    "\n",
    "            Answer:\n",
    "         \"\"\"\n",
    "\n",
    "prompt_template = ChatPromptTemplate.from_template(prompt)"
   ]
  },
  {
   "cell_type": "markdown",
   "metadata": {
    "id": "Ng4cKPYfmRyg"
   },
   "source": [
    "## LCEL Syntax for QA RAG Chain - Recommended\n",
    "\n",
    "Here we show you how to create the RAG chain using LangChain's recommended LCEL"
   ]
  },
  {
   "cell_type": "code",
   "execution_count": 24,
   "metadata": {
    "id": "18p2bJahmLX_"
   },
   "outputs": [],
   "source": [
    "from langchain_core.runnables import RunnablePassthrough\n",
    "\n",
    "def format_docs(docs):\n",
    "    return \"\\n\\n\".join(doc.page_content for doc in docs)\n",
    "\n",
    "qa_rag_chain = (\n",
    "    {\n",
    "        \"context\": (final_retriever\n",
    "                      |\n",
    "                    format_docs),\n",
    "        \"question\": RunnablePassthrough()\n",
    "    }\n",
    "      |\n",
    "    prompt_template\n",
    "      |\n",
    "    chatgpt\n",
    ")"
   ]
  },
  {
   "cell_type": "code",
   "execution_count": 25,
   "metadata": {
    "id": "W2Ion52G99-A"
   },
   "outputs": [
    {
     "data": {
      "text/markdown": [
       "The financial capital of India is Mumbai. It is not only the largest city in India but also plays a crucial role in the country's economy. Mumbai generates more than 6% of India's GDP and is responsible for 25% of the industrial output, 40% of sea trade, and 70% of capital to India's economy. The city is home to key financial institutions such as the Reserve Bank of India, the Bombay Stock Exchange, and the National Stock Exchange of India, as well as numerous Indian companies and multinational corporations. Additionally, Mumbai is known for its vibrant cultural scene, including the Hindi film and television industry, commonly referred to as Bollywood."
      ],
      "text/plain": [
       "<IPython.core.display.Markdown object>"
      ]
     },
     "metadata": {},
     "output_type": "display_data"
    }
   ],
   "source": [
    "from IPython.display import Markdown, display\n",
    "\n",
    "query = \"What is the financial capital of India?\"\n",
    "result = qa_rag_chain.invoke(query)\n",
    "display(Markdown(result.content))"
   ]
  },
  {
   "cell_type": "code",
   "execution_count": 26,
   "metadata": {
    "id": "hdYPx4g39wpW"
   },
   "outputs": [
    {
     "data": {
      "text/markdown": [
       "The old capital of India was Kolkata, which was known as Calcutta until 1 January 2001. Kolkata served as the capital during the British Raj until 1911. It became the capital of British India in 1772 and remained so until the capital was moved to New Delhi. Kolkata was a significant center for industry and education during its time as the capital and played a crucial role in the history of British colonial rule in India."
      ],
      "text/plain": [
       "<IPython.core.display.Markdown object>"
      ]
     },
     "metadata": {},
     "output_type": "display_data"
    }
   ],
   "source": [
    "query = \"What is the old capital of India?\"\n",
    "result = qa_rag_chain.invoke(query)\n",
    "display(Markdown(result.content))"
   ]
  },
  {
   "cell_type": "code",
   "execution_count": 27,
   "metadata": {
    "id": "Xb3nI-wM-K9X"
   },
   "outputs": [
    {
     "data": {
      "text/markdown": [
       "The fastest animal is the cheetah, scientifically known as \"Acinonyx jubatus.\" This medium-large cat is primarily found in Africa, with a few populations in Asia. Cheetahs are renowned for their incredible speed, capable of reaching up to 112 kilometers per hour (about 70 miles per hour) for short bursts. This remarkable speed is facilitated by their light and slim build, which is in stark contrast to the more robust physiques of other big cats.\n",
       "\n",
       "Cheetahs have long, thin legs and a long spotted tail, both of which are essential for maintaining balance and stability while running at high speeds. They are active during the day and typically hunt in the early morning or late evening. The cheetah's claws are slightly curved and only weakly retractable, which is another distinguishing feature compared to other big cats that possess fully retractable claws.\n",
       "\n",
       "Among the different subspecies, the South African Cheetah (\"Acinonyx jubatus jubatus\") is the most abundant, with an estimated population of over 6,000 individuals in the wild. This subspecies is native to Southern Africa and has seen population increases in certain areas, such as Namibia, where numbers rose from approximately 2,500 individuals in 1990 to more than 3,500 by 2015."
      ],
      "text/plain": [
       "<IPython.core.display.Markdown object>"
      ]
     },
     "metadata": {},
     "output_type": "display_data"
    }
   ],
   "source": [
    "query = \"Tell me about the fastest animal?\"\n",
    "result = qa_rag_chain.invoke(query)\n",
    "display(Markdown(result.content))"
   ]
  },
  {
   "cell_type": "code",
   "execution_count": 28,
   "metadata": {
    "id": "vRCklZua-O7p"
   },
   "outputs": [
    {
     "data": {
      "text/markdown": [
       "Linguistics is the study of language and how it works. People who specialize in this field are called linguists. There are five main areas of linguistics:\n",
       "\n",
       "1. **Phonology**: This is the study of sounds in language. It looks at how sounds are organized and used in different languages.\n",
       "\n",
       "2. **Morphology**: This area focuses on the structure of words, including parts of words like prefixes (e.g., \"un-\") and suffixes (e.g., \"-ing\").\n",
       "\n",
       "3. **Syntax**: Syntax deals with how words are arranged to form sentences. It examines the rules that govern sentence structure.\n",
       "\n",
       "4. **Semantics**: This part studies the meaning of words and how they combine to create meaning in sentences.\n",
       "\n",
       "5. **Pragmatics**: Pragmatics looks at the unspoken aspects of communication, such as how context influences the interpretation of what is said. For example, if someone says \"I'm cold,\" they might be hinting that they want someone to turn off a fan.\n",
       "\n",
       "Linguistics can be divided into two main branches: theoretical linguistics and applied linguistics. Theoretical linguists explore the underlying principles of language, including how languages have evolved over time (historical linguistics) and how different social groups use language (sociolinguistics). On the other hand, applied linguists use linguistic knowledge in practical ways, such as in forensic linguistics for crime investigations or computational linguistics to help computers understand human language, like in speech recognition systems.\n",
       "\n",
       "In summary, linguistics is a broad field that examines all aspects of language, from sounds and word structures to meanings and social usage."
      ],
      "text/plain": [
       "<IPython.core.display.Markdown object>"
      ]
     },
     "metadata": {},
     "output_type": "display_data"
    }
   ],
   "source": [
    "query = \"Explain linguistics in simple terms\"\n",
    "result = qa_rag_chain.invoke(query)\n",
    "display(Markdown(result.content))"
   ]
  },
  {
   "cell_type": "code",
   "execution_count": 29,
   "metadata": {
    "id": "mjqHaljE-Uh-"
   },
   "outputs": [
    {
     "data": {
      "text/markdown": [
       "I don't know."
      ],
      "text/plain": [
       "<IPython.core.display.Markdown object>"
      ]
     },
     "metadata": {},
     "output_type": "display_data"
    }
   ],
   "source": [
    "query = \"Who won the champions league in 2021\"\n",
    "result = qa_rag_chain.invoke(query)\n",
    "display(Markdown(result.content))"
   ]
  }
 ],
 "metadata": {
  "accelerator": "GPU",
  "colab": {
   "gpuType": "T4",
   "provenance": []
  },
  "kernelspec": {
   "display_name": "Python 3 (ipykernel)",
   "language": "python",
   "name": "python3"
  },
  "language_info": {
   "codemirror_mode": {
    "name": "ipython",
    "version": 3
   },
   "file_extension": ".py",
   "mimetype": "text/x-python",
   "name": "python",
   "nbconvert_exporter": "python",
   "pygments_lexer": "ipython3",
   "version": "3.11.7"
  }
 },
 "nbformat": 4,
 "nbformat_minor": 4
}
